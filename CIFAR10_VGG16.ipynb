{
  "nbformat": 4,
  "nbformat_minor": 0,
  "metadata": {
    "colab": {
      "provenance": [],
      "gpuType": "T4"
    },
    "kernelspec": {
      "name": "python3",
      "display_name": "Python 3"
    },
    "language_info": {
      "name": "python"
    },
    "gpuClass": "standard",
    "accelerator": "GPU"
  },
  "cells": [
    {
      "cell_type": "markdown",
      "source": [
        "Importing **Torch** and **CIFAR10** dataset"
      ],
      "metadata": {
        "id": "XXX4NBMIimtp"
      }
    },
    {
      "cell_type": "code",
      "execution_count": 105,
      "metadata": {
        "id": "ppL9VHoPh_9B"
      },
      "outputs": [],
      "source": [
        "import torch \n",
        "from torchvision.datasets import CIFAR10"
      ]
    },
    {
      "cell_type": "markdown",
      "source": [
        "Spliting the dataset into **train** and **test** sets"
      ],
      "metadata": {
        "id": "w8qcEHQLjOwW"
      }
    },
    {
      "cell_type": "code",
      "source": [
        "train_data = CIFAR10(root = 'data', train = True, download= True) \n",
        "test_data = CIFAR10(root = 'data', train = False, download= True)"
      ],
      "metadata": {
        "colab": {
          "base_uri": "https://localhost:8080/"
        },
        "id": "rH46-0N5ix_Y",
        "outputId": "86d233eb-5ea9-427b-ff94-bb088f1b8cea"
      },
      "execution_count": 106,
      "outputs": [
        {
          "output_type": "stream",
          "name": "stdout",
          "text": [
            "Files already downloaded and verified\n",
            "Files already downloaded and verified\n"
          ]
        }
      ]
    },
    {
      "cell_type": "markdown",
      "source": [
        "**Checking** the dataset length"
      ],
      "metadata": {
        "id": "nIafTjxrjevA"
      }
    },
    {
      "cell_type": "code",
      "source": [
        "len(train_data) # has 50000 data in train set\n",
        "len(test_data) # has 10000 data in test set\n",
        "train_data"
      ],
      "metadata": {
        "colab": {
          "base_uri": "https://localhost:8080/"
        },
        "id": "nZIKamh_jLqm",
        "outputId": "e4d0572d-997e-4eab-bfa5-9abc7597aa5a"
      },
      "execution_count": 107,
      "outputs": [
        {
          "output_type": "execute_result",
          "data": {
            "text/plain": [
              "Dataset CIFAR10\n",
              "    Number of datapoints: 50000\n",
              "    Root location: data\n",
              "    Split: Train"
            ]
          },
          "metadata": {},
          "execution_count": 107
        }
      ]
    },
    {
      "cell_type": "markdown",
      "source": [
        "Show the dataset **image** and **label**"
      ],
      "metadata": {
        "id": "EYwX7NQ_j1we"
      }
    },
    {
      "cell_type": "code",
      "source": [
        "im, gt = train_data[15]\n",
        "print(type(gt)) # get gt type which is int\n",
        "display(im)\n",
        "im.size # can get the size 32 X 32\n"
      ],
      "metadata": {
        "colab": {
          "base_uri": "https://localhost:8080/",
          "height": 84
        },
        "id": "-os9T5zfjm0Q",
        "outputId": "4bf926a3-33ae-487a-d637-3b80bd26044c"
      },
      "execution_count": 108,
      "outputs": [
        {
          "output_type": "stream",
          "name": "stdout",
          "text": [
            "<class 'int'>\n"
          ]
        },
        {
          "output_type": "display_data",
          "data": {
            "text/plain": [
              "<PIL.Image.Image image mode=RGB size=32x32 at 0x7FE99F4AB310>"
            ],
            "image/png": "[encoded data removed]"
          },
          "metadata": {}
        },
        {
          "output_type": "execute_result",
          "data": {
            "text/plain": [
              "(32, 32)"
            ]
          },
          "metadata": {},
          "execution_count": 108
        }
      ]
    },
    {
      "cell_type": "code",
      "source": [
        "from matplotlib import pyplot as plt # import matplotlib\n",
        "\n",
        "plt.imshow(im) # get image\n",
        "plt.title(f'Target: {gt}') # get label \n",
        "plt.axis('off') # off x and y axises "
      ],
      "metadata": {
        "colab": {
          "base_uri": "https://localhost:8080/",
          "height": 445
        },
        "id": "5FteOk_rkMQJ",
        "outputId": "37a802ce-a5de-4eab-9d93-e6a99d8a3ce1"
      },
      "execution_count": 109,
      "outputs": [
        {
          "output_type": "execute_result",
          "data": {
            "text/plain": [
              "(-0.5, 31.5, 31.5, -0.5)"
            ]
          },
          "metadata": {},
          "execution_count": 109
        },
        {
          "output_type": "display_data",
          "data": {
            "text/plain": [
              "<Figure size 640x480 with 1 Axes>"
            ],
            "image/png": "[encoded data removed]"
          },
          "metadata": {}
        }
      ]
    },
    {
      "cell_type": "markdown",
      "source": [
        "# Appyling **Augmentations**"
      ],
      "metadata": {
        "id": "3DB5EqzBmeLC"
      }
    },
    {
      "cell_type": "code",
      "source": [
        "from torchvision import transforms as T\n",
        "\n",
        "def applying_T(root):\n",
        "  \n",
        "  \"\"\"This function get saved dataset and apply some transformations to my data\"\"\"\n",
        "  \n",
        "  # applying a few transformations to TRAIN dataset\n",
        "\n",
        "  train_data_T = T.Compose([\n",
        "      T.RandomVerticalFlip(), # Flip Vertically\n",
        "      T.ToTensor(), # change to Tensor values # (H, W, img_chan.)\n",
        "      T.RandomHorizontalFlip(), # Flip Horizontally\n",
        "      T.Normalize(mean = 0.5, std = 0.5)\n",
        "  ])\n",
        "\n",
        "  # applying a few transformations to TEST dataset\n",
        "\n",
        "  test_data_T = T.Compose([\n",
        "      T.RandomHorizontalFlip(), # Flip Horizontally\n",
        "      T.ToTensor(), # change to Tensor values # (H, W, img_chan.)\n",
        "      T.Normalize(mean = 0.5, std = 0.5)\n",
        "  ])\n",
        "\n",
        "  train_data = CIFAR10(root = root, train = True, transform = train_data_T, download = True)\n",
        "  test_data = CIFAR10(root = root, train = False, transform = test_data_T, download = True)\n",
        "\n",
        "  return train_data, test_data\n",
        "\n",
        "after_T, test_data = applying_T(\"data\") # train dataset is renamed\n",
        "\n"
      ],
      "metadata": {
        "colab": {
          "base_uri": "https://localhost:8080/"
        },
        "id": "185-MrmjlPFg",
        "outputId": "0853cbfb-dffa-4d3f-8c4c-50f73dc72216"
      },
      "execution_count": 110,
      "outputs": [
        {
          "output_type": "stream",
          "name": "stdout",
          "text": [
            "Files already downloaded and verified\n",
            "Files already downloaded and verified\n"
          ]
        }
      ]
    },
    {
      "cell_type": "code",
      "source": [
        "im, gt = after_T [0] # getting the 0 index of my train set element and change it to tensor\n",
        "torch.unique(im) "
      ],
      "metadata": {
        "colab": {
          "base_uri": "https://localhost:8080/"
        },
        "id": "CXyi_ixrw5Ck",
        "outputId": "d392feb0-6aa3-42a6-a1a9-7966eb0c705e"
      },
      "execution_count": 111,
      "outputs": [
        {
          "output_type": "execute_result",
          "data": {
            "text/plain": [
              "tensor([-1.0000, -0.9686, -0.9608, -0.9451, -0.9373, -0.9294, -0.9216, -0.9137,\n",
              "        -0.9059, -0.8980, -0.8902, -0.8824, -0.8745, -0.8667, -0.8588, -0.8510,\n",
              "        -0.8431, -0.8353, -0.8275, -0.8196, -0.8118, -0.8039, -0.7961, -0.7882,\n",
              "        -0.7804, -0.7725, -0.7647, -0.7569, -0.7490, -0.7412, -0.7333, -0.7255,\n",
              "        -0.7176, -0.7098, -0.7020, -0.6941, -0.6863, -0.6784, -0.6706, -0.6627,\n",
              "        -0.6549, -0.6471, -0.6392, -0.6314, -0.6235, -0.6157, -0.6078, -0.6000,\n",
              "        -0.5922, -0.5843, -0.5765, -0.5686, -0.5608, -0.5529, -0.5451, -0.5373,\n",
              "        -0.5294, -0.5216, -0.5137, -0.5059, -0.4980, -0.4902, -0.4824, -0.4745,\n",
              "        -0.4667, -0.4588, -0.4510, -0.4431, -0.4353, -0.4275, -0.4196, -0.4118,\n",
              "        -0.4039, -0.3961, -0.3882, -0.3804, -0.3725, -0.3647, -0.3569, -0.3490,\n",
              "        -0.3412, -0.3333, -0.3255, -0.3176, -0.3098, -0.3020, -0.2941, -0.2863,\n",
              "        -0.2784, -0.2706, -0.2627, -0.2549, -0.2471, -0.2392, -0.2314, -0.2235,\n",
              "        -0.2157, -0.2078, -0.2000, -0.1922, -0.1843, -0.1765, -0.1686, -0.1608,\n",
              "        -0.1529, -0.1451, -0.1373, -0.1294, -0.1216, -0.1137, -0.1059, -0.0980,\n",
              "        -0.0902, -0.0824, -0.0745, -0.0667, -0.0588, -0.0510, -0.0431, -0.0353,\n",
              "        -0.0275, -0.0196, -0.0118, -0.0039,  0.0039,  0.0118,  0.0196,  0.0275,\n",
              "         0.0353,  0.0431,  0.0510,  0.0588,  0.0667,  0.0745,  0.0824,  0.0902,\n",
              "         0.0980,  0.1059,  0.1137,  0.1216,  0.1294,  0.1373,  0.1451,  0.1529,\n",
              "         0.1608,  0.1686,  0.1765,  0.1843,  0.1922,  0.2000,  0.2078,  0.2157,\n",
              "         0.2235,  0.2314,  0.2392,  0.2471,  0.2549,  0.2627,  0.2706,  0.2784,\n",
              "         0.2863,  0.2941,  0.3020,  0.3098,  0.3176,  0.3255,  0.3333,  0.3412,\n",
              "         0.3490,  0.3569,  0.3647,  0.3725,  0.3804,  0.3882,  0.3961,  0.4039,\n",
              "         0.4118,  0.4196,  0.4275,  0.4353,  0.4431,  0.4510,  0.4588,  0.4667,\n",
              "         0.4745,  0.4824,  0.4902,  0.4980,  0.5059,  0.5137,  0.5216,  0.5294,\n",
              "         0.5373,  0.5451,  0.5529,  0.5608,  0.5686,  0.5765,  0.5843,  0.5922,\n",
              "         0.6000,  0.6078,  0.6157,  0.6235,  0.6314,  0.6392,  0.6471,  0.6549,\n",
              "         0.6627,  0.6706,  0.6784,  0.6863,  0.6941,  0.7020,  0.7098,  0.7176,\n",
              "         0.7255,  0.7333,  0.7412,  0.7490,  0.7569,  0.7647,  0.7725,  0.7804,\n",
              "         0.7882,  0.7961,  0.8039,  0.8118,  0.8196,  0.8275,  0.8353,  0.8431,\n",
              "         0.8510,  0.8588,  0.8667,  0.8745,  0.8824,  0.8902,  0.8980,  0.9059,\n",
              "         0.9137,  0.9216,  0.9373,  0.9451,  0.9608,  0.9765,  0.9843,  1.0000])"
            ]
          },
          "metadata": {},
          "execution_count": 111
        }
      ]
    },
    {
      "cell_type": "markdown",
      "source": [
        "Spliting **CIFAR10** dataset into **Train, Validation** and **Test** sets."
      ],
      "metadata": {
        "id": "jSozBtR53xNG"
      }
    },
    {
      "cell_type": "code",
      "source": [
        "from torch.utils.data import random_split, DataLoader\n"
      ],
      "metadata": {
        "id": "EnY_6F7spgb2"
      },
      "execution_count": 112,
      "outputs": []
    },
    {
      "cell_type": "code",
      "source": [
        "train_length = int(len(after_T) * 0.85)\n",
        "train_ds, validation_ds = random_split(after_T,[train_length, len(after_T) - train_length])\n",
        "print(f\"Train has {len(train_ds)} data.\") \n",
        "print(f\"Validation {len(validation_ds)} data.\")\n",
        "print(f\"Test set {len(test_data)} data.\")\n"
      ],
      "metadata": {
        "colab": {
          "base_uri": "https://localhost:8080/"
        },
        "id": "yzxsFfnQ4BMf",
        "outputId": "f1117cdd-02c3-4868-d0c3-c1bc1d4f04f0"
      },
      "execution_count": 113,
      "outputs": [
        {
          "output_type": "stream",
          "name": "stdout",
          "text": [
            "Train has 42500 data.\n",
            "Validation 7500 data.\n",
            "Test set 10000 data.\n"
          ]
        }
      ]
    },
    {
      "cell_type": "markdown",
      "source": [
        "## **Dataset and DataLoader**"
      ],
      "metadata": {
        "id": "phkNniNiuP1Y"
      }
    },
    {
      "cell_type": "code",
      "source": [
        "BATCH_SIZE = 32; # batch size is 32 which is datasets / 32 \n",
        "\n",
        "# define dl(DataLoader) of train and validation datasets\n",
        "\n",
        "train_dl = DataLoader(dataset = train_ds, batch_size = BATCH_SIZE, shuffle = True, num_workers = 4, drop_last = False)\n",
        "validation_dl = DataLoader(dataset = validation_ds, batch_size = BATCH_SIZE, shuffle = False, num_workers = 4)\n",
        "\n",
        "# define dl(DataLoader) of test dataset\n",
        "\n",
        "test_dl = DataLoader(dataset = test_data, batch_size = BATCH_SIZE, shuffle = False, num_workers = 4)"
      ],
      "metadata": {
        "id": "Yr5-dvv92Mk3"
      },
      "execution_count": 114,
      "outputs": []
    },
    {
      "cell_type": "code",
      "source": [
        "print(f\"Train : {len(train_dl)} \\nValidation : {len(validation_dl)} \\nTest : {len(test_dl)}\")\n"
      ],
      "metadata": {
        "colab": {
          "base_uri": "https://localhost:8080/"
        },
        "id": "UDoGcNRv5ta4",
        "outputId": "84550661-39b0-4d97-e5b7-6395ddb0adb3"
      },
      "execution_count": 115,
      "outputs": [
        {
          "output_type": "stream",
          "name": "stdout",
          "text": [
            "Train : 1329 \n",
            "Validation : 235 \n",
            "Test : 313\n"
          ]
        }
      ]
    },
    {
      "cell_type": "code",
      "source": [
        "batch = next(iter(train_dl))\n",
        "print(batch[0].shape)\n",
        "print(batch[1].shape) #  torch.Size([32 (batch size), 3(RGB), 32, 32(pic. size)])"
      ],
      "metadata": {
        "colab": {
          "base_uri": "https://localhost:8080/"
        },
        "id": "lOgAyB8h5xch",
        "outputId": "4785da01-ec42-4d88-bb3f-f3e173880489"
      },
      "execution_count": 116,
      "outputs": [
        {
          "output_type": "stream",
          "name": "stdout",
          "text": [
            "torch.Size([32, 3, 32, 32])\n",
            "torch.Size([32])\n"
          ]
        }
      ]
    },
    {
      "cell_type": "markdown",
      "source": [
        "# Building a **Model**\n",
        "\n",
        "In model, I want to use **ReLU** (gets all positive values) and **Softmax**(sum of tensor values are equal to 1)."
      ],
      "metadata": {
        "id": "Nudqcqb_8lOc"
      }
    },
    {
      "cell_type": "code",
      "source": [
        "import torch\n",
        "import torch.nn as nn\n",
        "\n",
        "class VGG16_model(nn.Module):\n",
        "  def __init__(self, num_class = 10):\n",
        "    super(VGG16_model, self).__init__()\n",
        "\n",
        "    self.features = nn.Sequential(\n",
        "        \n",
        "        # Block 1 : VGG 16 model architecture \n",
        "\n",
        "        nn.Conv2d(3, 64, kernel_size = 3, padding = 1),\n",
        "        nn.ReLU(inplace = True),\n",
        "        nn.Conv2d(64, 64, kernel_size = 3, padding = 1),\n",
        "        nn.ReLU(inplace = True),\n",
        "        nn.MaxPool2d(kernel_size = 2, stride = 2),\n",
        "\n",
        "        # Block 2 : VGG 16 model architecture \n",
        "        \n",
        "        nn.Conv2d(64, 128, kernel_size = 3, padding = 1),\n",
        "        nn.ReLU(inplace = True),\n",
        "        nn.Conv2d(128, 128, kernel_size = 3, padding = 1),\n",
        "        nn.ReLU(inplace = True),\n",
        "        nn.MaxPool2d(kernel_size = 2, stride = 2),\n",
        "\n",
        "        # Block 3 : VGG 16 model architecture \n",
        "        \n",
        "        nn.Conv2d(128, 256, kernel_size = 3, padding = 1),\n",
        "        nn.ReLU(inplace = True),\n",
        "        nn.Conv2d(256, 256, kernel_size = 3, padding = 1),\n",
        "        nn.ReLU(inplace = True),\n",
        "        nn.Conv2d(256, 256, kernel_size = 3, padding = 1),\n",
        "        nn.ReLU(inplace = True),\n",
        "        nn.MaxPool2d(kernel_size = 2, stride = 2),\n",
        "           # Block 4 : VGG 16 model architecture \n",
        "\n",
        "        nn.Conv2d(256, 512, kernel_size = 3, padding = 1),\n",
        "        nn.ReLU(inplace = True),\n",
        "        nn.Conv2d(512, 512, kernel_size = 3, padding = 1),\n",
        "        nn.ReLU(inplace = True),\n",
        "        nn.Conv2d(512, 512, kernel_size = 3, padding = 1),\n",
        "        nn.ReLU(inplace = True),\n",
        "        nn.MaxPool2d(kernel_size = 2, stride = 2),\n",
        "\n",
        "        # Block 5 : VGG 16 model architecture \n",
        "\n",
        "        nn.Conv2d(512, 512, kernel_size = 3, padding = 1),\n",
        "        nn.ReLU(inplace = True),\n",
        "        nn.Conv2d(512, 512, kernel_size = 3, padding = 1),\n",
        "        nn.ReLU(inplace = True),\n",
        "        nn.Conv2d(512, 512, kernel_size = 3, padding = 1),\n",
        "        nn.ReLU(inplace = True),\n",
        "        nn.MaxPool2d(kernel_size = 2, stride = 2),\n",
        "    )\n",
        "    \n",
        "    self.avgpool = nn.AdaptiveAvgPool2d((7, 7))\n",
        "    self.classifier = nn.Sequential(\n",
        "        nn.Linear(512*7*7, 4096),\n",
        "        nn.ReLU(inplace = True),\n",
        "        nn.Dropout(),\n",
        "        nn.Linear(4096, 4096),\n",
        "        nn.Dropout(),\n",
        "        nn.Linear(4096, num_class),\n",
        "   )\n",
        "    \n",
        "  def forward(self, x):\n",
        "    x = self.features(x)\n",
        "    x = self.avgpool(x)\n",
        "    x = x.view(x.size(0), -1)\n",
        "    x = self.classifier(x)\n",
        "    return x\n",
        "\n",
        "my_model = VGG16_model() # num_class = numbers of labels\n",
        "\n"
      ],
      "metadata": {
        "id": "Di-CJVMr6z2c"
      },
      "execution_count": 131,
      "outputs": []
    },
    {
      "cell_type": "markdown",
      "source": [
        "**Agnostic code** : to check device CPU and GPU"
      ],
      "metadata": {
        "id": "_d6yF-NUHIvz"
      }
    },
    {
      "cell_type": "code",
      "source": [
        "device = 'cuda'if torch.cuda.is_available() else 'cpu'\n",
        "my_model.to(device)"
      ],
      "metadata": {
        "colab": {
          "base_uri": "https://localhost:8080/"
        },
        "id": "qz9UpqzxDrOb",
        "outputId": "41113e3f-7ea5-41c1-f720-b01dc604acc8"
      },
      "execution_count": 132,
      "outputs": [
        {
          "output_type": "execute_result",
          "data": {
            "text/plain": [
              "VGG16_model(\n",
              "  (features): Sequential(\n",
              "    (0): Conv2d(3, 64, kernel_size=(3, 3), stride=(1, 1), padding=(1, 1))\n",
              "    (1): ReLU(inplace=True)\n",
              "    (2): Conv2d(64, 64, kernel_size=(3, 3), stride=(1, 1), padding=(1, 1))\n",
              "    (3): ReLU(inplace=True)\n",
              "    (4): MaxPool2d(kernel_size=2, stride=2, padding=0, dilation=1, ceil_mode=False)\n",
              "    (5): Conv2d(64, 128, kernel_size=(3, 3), stride=(1, 1), padding=(1, 1))\n",
              "    (6): ReLU(inplace=True)\n",
              "    (7): Conv2d(128, 128, kernel_size=(3, 3), stride=(1, 1), padding=(1, 1))\n",
              "    (8): ReLU(inplace=True)\n",
              "    (9): MaxPool2d(kernel_size=2, stride=2, padding=0, dilation=1, ceil_mode=False)\n",
              "    (10): Conv2d(128, 256, kernel_size=(3, 3), stride=(1, 1), padding=(1, 1))\n",
              "    (11): ReLU(inplace=True)\n",
              "    (12): Conv2d(256, 256, kernel_size=(3, 3), stride=(1, 1), padding=(1, 1))\n",
              "    (13): ReLU(inplace=True)\n",
              "    (14): Conv2d(256, 256, kernel_size=(3, 3), stride=(1, 1), padding=(1, 1))\n",
              "    (15): ReLU(inplace=True)\n",
              "    (16): MaxPool2d(kernel_size=2, stride=2, padding=0, dilation=1, ceil_mode=False)\n",
              "    (17): Conv2d(256, 512, kernel_size=(3, 3), stride=(1, 1), padding=(1, 1))\n",
              "    (18): ReLU(inplace=True)\n",
              "    (19): Conv2d(512, 512, kernel_size=(3, 3), stride=(1, 1), padding=(1, 1))\n",
              "    (20): ReLU(inplace=True)\n",
              "    (21): Conv2d(512, 512, kernel_size=(3, 3), stride=(1, 1), padding=(1, 1))\n",
              "    (22): ReLU(inplace=True)\n",
              "    (23): MaxPool2d(kernel_size=2, stride=2, padding=0, dilation=1, ceil_mode=False)\n",
              "    (24): Conv2d(512, 512, kernel_size=(3, 3), stride=(1, 1), padding=(1, 1))\n",
              "    (25): ReLU(inplace=True)\n",
              "    (26): Conv2d(512, 512, kernel_size=(3, 3), stride=(1, 1), padding=(1, 1))\n",
              "    (27): ReLU(inplace=True)\n",
              "    (28): Conv2d(512, 512, kernel_size=(3, 3), stride=(1, 1), padding=(1, 1))\n",
              "    (29): ReLU(inplace=True)\n",
              "    (30): MaxPool2d(kernel_size=2, stride=2, padding=0, dilation=1, ceil_mode=False)\n",
              "  )\n",
              "  (avgpool): AdaptiveAvgPool2d(output_size=(7, 7))\n",
              "  (classifier): Sequential(\n",
              "    (0): Linear(in_features=25088, out_features=4096, bias=True)\n",
              "    (1): ReLU(inplace=True)\n",
              "    (2): Dropout(p=0.5, inplace=False)\n",
              "    (3): Linear(in_features=4096, out_features=4096, bias=True)\n",
              "    (4): Dropout(p=0.5, inplace=False)\n",
              "    (5): Linear(in_features=4096, out_features=10, bias=True)\n",
              "  )\n",
              ")"
            ]
          },
          "metadata": {},
          "execution_count": 132
        }
      ]
    },
    {
      "cell_type": "markdown",
      "source": [
        "# **Epoch / Loss / Optimizer**"
      ],
      "metadata": {
        "id": "pXC3URVEKUq6"
      }
    },
    {
      "cell_type": "code",
      "source": [
        "learning_rate = 0.003 # defining my learning rate \n",
        "loss_function = torch.nn.CrossEntropyLoss() # use CrossEntropyLoss minimazing my loss bcz low loss , better model\n",
        "optimizer = torch.optim.Adam(params = my_model.parameters(), lr = learning_rate)"
      ],
      "metadata": {
        "id": "OQ-p4i4uKFC7"
      },
      "execution_count": 133,
      "outputs": []
    },
    {
      "cell_type": "markdown",
      "source": [
        "# **Train Loop**"
      ],
      "metadata": {
        "id": "4pzXBgpVMAqD"
      }
    },
    {
      "cell_type": "code",
      "source": [
        "from tqdm import tqdm # like bar graph ->\n",
        "import os\n",
        "\n",
        "peak_acc = 0 # this ll be the best accurency value\n",
        "epochs = 11\n",
        "\n",
        "for epoch in range(epochs):\n",
        "\n",
        "  epoch_loss, epoch_acc, total = 0, 0, 0\n",
        "\n",
        "  for indx, batch in tqdm(enumerate(train_dl)):\n",
        "\n",
        "    i, gts = batch\n",
        "    i, gts = i.to(device), gts.to(device)\n",
        "\n",
        "    preds = my_model(i)\n",
        "    loss = loss_function(preds,gts) # print my loss value\n",
        "\n",
        "    total += i.shape[0] # save batch size to total\n",
        "    pred_val, pred_class = torch.max(preds.data, dim = 1)\n",
        "\n",
        "    epoch_acc += (pred_class == gts).sum().item() # calculate how many gts is equal to bt : 32 -> 25 , etc.\n",
        "    epoch_loss += loss.item()\n",
        "\n",
        "    optimizer.zero_grad()\n",
        "    loss.backward()\n",
        "    optimizer.step()\n",
        "\n",
        "  print(f\"Epoch {epoch + 1} train is finished.\")\n",
        "  print(f\"Epoch {epoch + 1} train loss : -> {epoch_loss / len(train_dl)}.\")\n",
        "  print(f\"Epoch {epoch + 1} train accurancy :  -> {epoch_acc / total}.\")\n",
        "\n",
        "  my_model.eval()\n",
        "\n",
        "  with torch.no_grad():\n",
        "    val_epoch_loss, val_epoch_acc, val_total = 0, 0, 0\n",
        "        \n",
        "    for idx, batch in enumerate(validation_dl):\n",
        "            i, gts = batch\n",
        "            i, gts = i.to(device), gts.to(device)\n",
        "            val_total += i.shape[0]\n",
        "            \n",
        "            preds = my_model(i) \n",
        "            loss = loss_function(preds, gts)\n",
        "            _, pred_cls = torch.max(preds.data, dim = 1)\n",
        "            val_epoch_loss += loss.item()\n",
        "            val_epoch_acc += (pred_cls == gts).sum().item()\n",
        "            \n",
        "    val_acc = val_epoch_acc / val_total\n",
        "        \n",
        "    print(f\"Epoch {epoch + 1} validation is finished.\")\n",
        "    print(f\"Epoch {epoch + 1} validation loss -> {val_epoch_loss / len(validation_dl)}.\")\n",
        "    print(f\"Epoch {epoch + 1} validation acc -> {val_acc}.\") \n",
        "\n",
        "    if val_acc > peak_acc:\n",
        "            os.makedirs(\"saved_models\", exist_ok = True)\n",
        "            torch.save(my_model.state_dict(), f\"saved_models/mnist_best_model.pth\") \n",
        "            best_acc = val_acc"
      ],
      "metadata": {
        "colab": {
          "base_uri": "https://localhost:8080/"
        },
        "id": "I9ZxPBWTL0Ig",
        "outputId": "8538251c-aa9f-44ef-8d7a-a667461f31ec"
      },
      "execution_count": null,
      "outputs": [
        {
          "output_type": "stream",
          "name": "stderr",
          "text": [
            "1329it [01:31, 14.51it/s]"
          ]
        },
        {
          "output_type": "stream",
          "name": "stdout",
          "text": [
            "Epoch 1 train is finished.\n",
            "Epoch 1 train loss : -> 2.6532995568082423.\n",
            "Epoch 1 train accurancy :  -> 0.0995529411764706.\n"
          ]
        },
        {
          "output_type": "stream",
          "name": "stderr",
          "text": [
            "\n"
          ]
        },
        {
          "output_type": "stream",
          "name": "stdout",
          "text": [
            "Epoch 1 validation is finished.\n",
            "Epoch 1 validation loss -> 2.3114484868151077.\n",
            "Epoch 1 validation acc -> 0.09773333333333334.\n"
          ]
        },
        {
          "output_type": "stream",
          "name": "stderr",
          "text": [
            "1329it [01:31, 14.56it/s]"
          ]
        },
        {
          "output_type": "stream",
          "name": "stdout",
          "text": [
            "Epoch 2 train is finished.\n",
            "Epoch 2 train loss : -> 2.310521266799479.\n",
            "Epoch 2 train accurancy :  -> 0.10014117647058823.\n"
          ]
        },
        {
          "output_type": "stream",
          "name": "stderr",
          "text": [
            "\n"
          ]
        },
        {
          "output_type": "stream",
          "name": "stdout",
          "text": [
            "Epoch 2 validation is finished.\n",
            "Epoch 2 validation loss -> 2.306317999007854.\n",
            "Epoch 2 validation acc -> 0.0996.\n"
          ]
        },
        {
          "output_type": "stream",
          "name": "stderr",
          "text": [
            "1329it [01:31, 14.56it/s]"
          ]
        },
        {
          "output_type": "stream",
          "name": "stdout",
          "text": [
            "Epoch 3 train is finished.\n",
            "Epoch 3 train loss : -> 2.307845537423908.\n",
            "Epoch 3 train accurancy :  -> 0.1008.\n"
          ]
        },
        {
          "output_type": "stream",
          "name": "stderr",
          "text": [
            "\n"
          ]
        },
        {
          "output_type": "stream",
          "name": "stdout",
          "text": [
            "Epoch 3 validation is finished.\n",
            "Epoch 3 validation loss -> 2.308439295342628.\n",
            "Epoch 3 validation acc -> 0.09773333333333334.\n"
          ]
        },
        {
          "output_type": "stream",
          "name": "stderr",
          "text": [
            "1329it [01:31, 14.57it/s]"
          ]
        },
        {
          "output_type": "stream",
          "name": "stdout",
          "text": [
            "Epoch 4 train is finished.\n",
            "Epoch 4 train loss : -> 2.3067332847931046.\n",
            "Epoch 4 train accurancy :  -> 0.09934117647058824.\n"
          ]
        },
        {
          "output_type": "stream",
          "name": "stderr",
          "text": [
            "\n"
          ]
        },
        {
          "output_type": "stream",
          "name": "stdout",
          "text": [
            "Epoch 4 validation is finished.\n",
            "Epoch 4 validation loss -> 2.3033050942928233.\n",
            "Epoch 4 validation acc -> 0.09853333333333333.\n"
          ]
        },
        {
          "output_type": "stream",
          "name": "stderr",
          "text": [
            "1329it [01:31, 14.56it/s]"
          ]
        },
        {
          "output_type": "stream",
          "name": "stdout",
          "text": [
            "Epoch 5 train is finished.\n",
            "Epoch 5 train loss : -> 2.307024438368637.\n",
            "Epoch 5 train accurancy :  -> 0.0984235294117647.\n"
          ]
        },
        {
          "output_type": "stream",
          "name": "stderr",
          "text": [
            "\n"
          ]
        },
        {
          "output_type": "stream",
          "name": "stdout",
          "text": [
            "Epoch 5 validation is finished.\n",
            "Epoch 5 validation loss -> 2.309268122530998.\n",
            "Epoch 5 validation acc -> 0.09946666666666666.\n"
          ]
        },
        {
          "output_type": "stream",
          "name": "stderr",
          "text": [
            "1329it [01:31, 14.56it/s]"
          ]
        },
        {
          "output_type": "stream",
          "name": "stdout",
          "text": [
            "Epoch 6 train is finished.\n",
            "Epoch 6 train loss : -> 2.3063067930636323.\n",
            "Epoch 6 train accurancy :  -> 0.10134117647058824.\n"
          ]
        },
        {
          "output_type": "stream",
          "name": "stderr",
          "text": [
            "\n"
          ]
        },
        {
          "output_type": "stream",
          "name": "stdout",
          "text": [
            "Epoch 6 validation is finished.\n",
            "Epoch 6 validation loss -> 2.3073797479588936.\n",
            "Epoch 6 validation acc -> 0.09853333333333333.\n"
          ]
        },
        {
          "output_type": "stream",
          "name": "stderr",
          "text": [
            "1329it [01:31, 14.56it/s]"
          ]
        },
        {
          "output_type": "stream",
          "name": "stdout",
          "text": [
            "Epoch 7 train is finished.\n",
            "Epoch 7 train loss : -> 2.3070433625966826.\n",
            "Epoch 7 train accurancy :  -> 0.10098823529411764.\n"
          ]
        },
        {
          "output_type": "stream",
          "name": "stderr",
          "text": [
            "\n"
          ]
        },
        {
          "output_type": "stream",
          "name": "stdout",
          "text": [
            "Epoch 7 validation is finished.\n",
            "Epoch 7 validation loss -> 2.3051148353738986.\n",
            "Epoch 7 validation acc -> 0.09773333333333334.\n"
          ]
        },
        {
          "output_type": "stream",
          "name": "stderr",
          "text": [
            "1096it [01:15, 14.36it/s]"
          ]
        }
      ]
    }
  ]
}