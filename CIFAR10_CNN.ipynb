{
  "nbformat": 4,
  "nbformat_minor": 0,
  "metadata": {
    "colab": {
      "provenance": []
    },
    "kernelspec": {
      "name": "python3",
      "display_name": "Python 3"
    },
    "language_info": {
      "name": "python"
    }
  },
  "cells": [
    {
      "cell_type": "code",
      "execution_count": null,
      "metadata": {
        "id": "bE4fmqosn9ko"
      },
      "outputs": [],
      "source": [
        "# create a CNN model\n",
        "import torch.nn as nn # importing the nn \n",
        "\n",
        "class CIFARModel(nn.Module):\n",
        "  \n",
        "  \"\"\"Model architecture reshaped from TinyVGG \"\"\"\n",
        "\n",
        "  def __init__(self, input_shape:int, hidden_units:int, output_shape:int):\n",
        "    \n",
        "    super().__init__()\n",
        "  \n",
        "    self.conv_block_one = nn.Sequential(\n",
        "      \n",
        "       nn.Conv2d(in_channels = input_shape, out_channels = hidden_units, kernel_size = 3, stride = 1, padding = 1),\n",
        "       nn.ReLU(), # first layer\n",
        "\n",
        "       nn.Conv2d(in_channels = hidden_units, out_channels = hidden_units, kernel_size = 3, stride = 1, padding = 1),\n",
        "       nn.ReLU(), # second layer\n",
        "\n",
        "       nn.MaxPool2d(kernel_size = 2) # pick max value inside the kernel\n",
        "    )\n",
        "\n",
        "    self.conv_block_two = nn.Sequential(\n",
        "      \n",
        "       nn.Conv2d(in_channels = hidden_units, out_channels = hidden_units, kernel_size = 3, stride = 1, padding = 1),\n",
        "       nn.ReLU(), # first layer\n",
        "\n",
        "       nn.Conv2d(in_channels = hidden_units, out_channels = hidden_units, kernel_size = 3, stride = 1, padding = 1),\n",
        "       nn.ReLU(), # second layer\n",
        "\n",
        "       nn.MaxPool2d(kernel_size = 2) # pick max value inside the kernel\n",
        "    )\n",
        "\n",
        "    self.classifier = nn.Sequential (\n",
        "      \n",
        "       nn.Flatten(), # make it vector\n",
        "       nn.Linear(in_features = hidden_units * 8 * 8, out_features = output_shape),\n",
        "    )\n",
        "\n",
        "  def forward(self,x):\n",
        "\n",
        "       x = self.conv_block_one (x)\n",
        "       # print(f'block_one {x}')\n",
        "       x = self.conv_block_two (x)\n",
        "       # print(f'block_two {x}')\n",
        "       x = self.classifier(x)\n",
        "       # print(f'Clasifier {x}') \n",
        "       return x\n",
        "\n"
      ]
    }
  ]
}